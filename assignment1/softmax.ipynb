{
 "cells": [
  {
   "cell_type": "markdown",
   "metadata": {},
   "source": [
    "# Softmax exercise\n",
    "\n",
    "*Complete and hand in this completed worksheet (including its outputs and any supporting code outside of the worksheet) with your assignment submission. For more details see the [assignments page](http://vision.stanford.edu/teaching/cs231n/assignments.html) on the course website.*\n",
    "\n",
    "This exercise is analogous to the SVM exercise. You will:\n",
    "\n",
    "- implement a fully-vectorized **loss function** for the Softmax classifier\n",
    "- implement the fully-vectorized expression for its **analytic gradient**\n",
    "- **check your implementation** with numerical gradient\n",
    "- use a validation set to **tune the learning rate and regularization** strength\n",
    "- **optimize** the loss function with **SGD**\n",
    "- **visualize** the final learned weights\n"
   ]
  },
  {
   "cell_type": "code",
   "execution_count": 2,
   "metadata": {},
   "outputs": [],
   "source": [
    "from __future__ import print_function\n",
    "import random\n",
    "import numpy as np\n",
    "from cs231n.data_utils import load_CIFAR10\n",
    "import matplotlib.pyplot as plt\n",
    "\n",
    "\n",
    "\n",
    "%matplotlib inline\n",
    "plt.rcParams['figure.figsize'] = (10.0, 8.0) # set default size of plots\n",
    "plt.rcParams['image.interpolation'] = 'nearest'\n",
    "plt.rcParams['image.cmap'] = 'gray'\n",
    "\n",
    "# for auto-reloading extenrnal modules\n",
    "# see http://stackoverflow.com/questions/1907993/autoreload-of-modules-in-ipython\n",
    "%load_ext autoreload\n",
    "%autoreload 2"
   ]
  },
  {
   "cell_type": "code",
   "execution_count": 3,
   "metadata": {},
   "outputs": [
    {
     "name": "stdout",
     "output_type": "stream",
     "text": [
      "Train data shape:  (49000, 3073)\n",
      "Train labels shape:  (49000,)\n",
      "Validation data shape:  (1000, 3073)\n",
      "Validation labels shape:  (1000,)\n",
      "Test data shape:  (1000, 3073)\n",
      "Test labels shape:  (1000,)\n",
      "dev data shape:  (500, 3073)\n",
      "dev labels shape:  (500,)\n"
     ]
    }
   ],
   "source": [
    "def get_CIFAR10_data(num_training=49000, num_validation=1000, num_test=1000, num_dev=500):\n",
    "    \"\"\"\n",
    "    Load the CIFAR-10 dataset from disk and perform preprocessing to prepare\n",
    "    it for the linear classifier. These are the same steps as we used for the\n",
    "    SVM, but condensed to a single function.  \n",
    "    \"\"\"\n",
    "    # Load the raw CIFAR-10 data\n",
    "    cifar10_dir = 'cs231n/datasets/cifar-10-batches-py'\n",
    "    \n",
    "    X_train, y_train, X_test, y_test = load_CIFAR10(cifar10_dir)\n",
    "    \n",
    "    # subsample the data\n",
    "    mask = list(range(num_training, num_training + num_validation))\n",
    "    X_val = X_train[mask]\n",
    "    y_val = y_train[mask]\n",
    "    mask = list(range(num_training))\n",
    "    X_train = X_train[mask]\n",
    "    y_train = y_train[mask]\n",
    "    mask = list(range(num_test))\n",
    "    X_test = X_test[mask]\n",
    "    y_test = y_test[mask]\n",
    "    mask = np.random.choice(num_training, num_dev, replace=False)\n",
    "    X_dev = X_train[mask]\n",
    "    y_dev = y_train[mask]\n",
    "    \n",
    "    # Preprocessing: reshape the image data into rows\n",
    "    X_train = np.reshape(X_train, (X_train.shape[0], -1))\n",
    "    X_val = np.reshape(X_val, (X_val.shape[0], -1))\n",
    "    X_test = np.reshape(X_test, (X_test.shape[0], -1))\n",
    "    X_dev = np.reshape(X_dev, (X_dev.shape[0], -1))\n",
    "    \n",
    "    # Normalize the data: subtract the mean image\n",
    "    mean_image = np.mean(X_train, axis = 0)\n",
    "    X_train -= mean_image\n",
    "    X_val -= mean_image\n",
    "    X_test -= mean_image\n",
    "    X_dev -= mean_image\n",
    "    \n",
    "    # add bias dimension and transform into columns\n",
    "    X_train = np.hstack([X_train, np.ones((X_train.shape[0], 1))])\n",
    "    X_val = np.hstack([X_val, np.ones((X_val.shape[0], 1))])\n",
    "    X_test = np.hstack([X_test, np.ones((X_test.shape[0], 1))])\n",
    "    X_dev = np.hstack([X_dev, np.ones((X_dev.shape[0], 1))])\n",
    "    \n",
    "    return X_train, y_train, X_val, y_val, X_test, y_test, X_dev, y_dev\n",
    "\n",
    "\n",
    "# Cleaning up variables to prevent loading data multiple times (which may cause memory issue)\n",
    "try:\n",
    "   del X_train, y_train\n",
    "   del X_test, y_test\n",
    "   print('Clear previously loaded data.')\n",
    "except:\n",
    "   pass\n",
    "\n",
    "# Invoke the above function to get our data.\n",
    "X_train, y_train, X_val, y_val, X_test, y_test, X_dev, y_dev = get_CIFAR10_data()\n",
    "print('Train data shape: ', X_train.shape)\n",
    "print('Train labels shape: ', y_train.shape)\n",
    "print('Validation data shape: ', X_val.shape)\n",
    "print('Validation labels shape: ', y_val.shape)\n",
    "print('Test data shape: ', X_test.shape)\n",
    "print('Test labels shape: ', y_test.shape)\n",
    "print('dev data shape: ', X_dev.shape)\n",
    "print('dev labels shape: ', y_dev.shape)"
   ]
  },
  {
   "cell_type": "markdown",
   "metadata": {},
   "source": [
    "## Softmax Classifier\n",
    "\n",
    "Your code for this section will all be written inside **cs231n/classifiers/softmax.py**. \n"
   ]
  },
  {
   "cell_type": "code",
   "execution_count": 62,
   "metadata": {},
   "outputs": [
    {
     "name": "stdout",
     "output_type": "stream",
     "text": [
      "loss: 2.318533\n",
      "sanity check: 2.302585\n"
     ]
    }
   ],
   "source": [
    "# First implement the naive softmax loss function with nested loops.\n",
    "# Open the file cs231n/classifiers/softmax.py and implement the\n",
    "# softmax_loss_naive function.\n",
    "\n",
    "from cs231n.classifiers.softmax import softmax_loss_naive\n",
    "import time\n",
    "\n",
    "# Generate a random softmax weight matrix and use it to compute the loss.\n",
    "W = np.random.randn(3073, 10) * 0.0001\n",
    "loss, grad = softmax_loss_naive(W, X_dev, y_dev, 0.0)\n",
    "\n",
    "# As a rough sanity check, our loss should be something close to -log(0.1).\n",
    "print('loss: %f' % loss)\n",
    "print('sanity check: %f' % (-np.log(0.1)))"
   ]
  },
  {
   "cell_type": "markdown",
   "metadata": {},
   "source": [
    "## Inline Question 1:\n",
    "Why do we expect our loss to be close to -log(0.1)? Explain briefly.**\n",
    "\n",
    "**Your answer:** *Fill this in*\n"
   ]
  },
  {
   "cell_type": "code",
   "execution_count": 63,
   "metadata": {},
   "outputs": [
    {
     "name": "stdout",
     "output_type": "stream",
     "text": [
      "numerical: 0.961863 analytic: 0.961863, relative error: 2.845939e-08\n",
      "numerical: 3.834880 analytic: 3.834880, relative error: 1.575613e-08\n",
      "numerical: 1.198371 analytic: 1.198371, relative error: 9.819308e-08\n",
      "numerical: -3.646531 analytic: -3.646531, relative error: 2.806299e-08\n",
      "numerical: -1.390406 analytic: -1.390406, relative error: 3.146608e-09\n",
      "numerical: 2.985845 analytic: 2.985845, relative error: 2.001194e-08\n",
      "numerical: -0.953252 analytic: -0.953252, relative error: 5.853571e-08\n",
      "numerical: 0.287532 analytic: 0.287532, relative error: 8.014120e-08\n",
      "numerical: -3.184968 analytic: -3.184968, relative error: 1.195486e-08\n",
      "numerical: -0.987564 analytic: -0.987564, relative error: 2.409413e-08\n",
      "numerical: -3.092942 analytic: -3.092943, relative error: 1.753290e-08\n",
      "numerical: 3.569803 analytic: 3.569803, relative error: 1.747701e-08\n",
      "numerical: -0.417006 analytic: -0.417006, relative error: 9.421650e-08\n",
      "numerical: 1.510667 analytic: 1.510667, relative error: 4.361198e-09\n",
      "numerical: -0.390204 analytic: -0.390204, relative error: 2.134516e-08\n",
      "numerical: -0.288923 analytic: -0.288923, relative error: 1.994863e-07\n",
      "numerical: -0.436919 analytic: -0.436919, relative error: 2.743396e-07\n",
      "numerical: -1.470961 analytic: -1.470961, relative error: 1.207506e-08\n",
      "numerical: 0.992717 analytic: 0.992717, relative error: 3.923954e-08\n",
      "numerical: -0.922598 analytic: -0.922598, relative error: 2.911021e-08\n"
     ]
    }
   ],
   "source": [
    "# Complete the implementation of softmax_loss_naive and implement a (naive)\n",
    "# version of the gradient that uses nested loops.\n",
    "loss, grad = softmax_loss_naive(W, X_dev, y_dev, 0.0)\n",
    "\n",
    "# As we did for the SVM, use numeric gradient checking as a debugging tool.\n",
    "# The numeric gradient should be close to the analytic gradient.\n",
    "from cs231n.gradient_check import grad_check_sparse\n",
    "f = lambda w: softmax_loss_naive(w, X_dev, y_dev, 0.0)[0]\n",
    "grad_numerical = grad_check_sparse(f, W, grad, 10)\n",
    "\n",
    "# similar to SVM case, do another gradient check with regularization\n",
    "loss, grad = softmax_loss_naive(W, X_dev, y_dev, 5e1)\n",
    "f = lambda w: softmax_loss_naive(w, X_dev, y_dev, 5e1)[0]\n",
    "grad_numerical = grad_check_sparse(f, W, grad, 10)"
   ]
  },
  {
   "cell_type": "code",
   "execution_count": 77,
   "metadata": {
    "scrolled": false
   },
   "outputs": [
    {
     "name": "stdout",
     "output_type": "stream",
     "text": [
      "naive loss: 2.318533e+00 computed in 0.060869s\n",
      "vectorized loss: 2.318533e+00 computed in 0.009707s\n",
      "Loss difference: 0.000000\n",
      "Gradient difference: 0.000000\n"
     ]
    }
   ],
   "source": [
    "# Now that we have a naive implementation of the softmax loss function and its gradient,\n",
    "# implement a vectorized version in softmax_loss_vectorized.\n",
    "# The two versions should compute the same results, but the vectorized version should be\n",
    "# much faster.\n",
    "tic = time.time()\n",
    "loss_naive, grad_naive = softmax_loss_naive(W, X_dev, y_dev, 0.000005)\n",
    "toc = time.time()\n",
    "print('naive loss: %e computed in %fs' % (loss_naive, toc - tic))\n",
    "\n",
    "from cs231n.classifiers.softmax import softmax_loss_vectorized\n",
    "tic = time.time()\n",
    "loss_vectorized, grad_vectorized = softmax_loss_vectorized(W, X_dev, y_dev, 0.000005)\n",
    "toc = time.time()\n",
    "print('vectorized loss: %e computed in %fs' % (loss_vectorized, toc - tic))\n",
    "\n",
    "# As we did for the SVM, we use the Frobenius norm to compare the two versions\n",
    "# of the gradient.\n",
    "grad_difference = np.linalg.norm(grad_naive - grad_vectorized, ord='fro')\n",
    "print('Loss difference: %f' % np.abs(loss_naive - loss_vectorized))\n",
    "print('Gradient difference: %f' % grad_difference)"
   ]
  },
  {
   "cell_type": "code",
   "execution_count": 86,
   "metadata": {},
   "outputs": [
    {
     "name": "stdout",
     "output_type": "stream",
     "text": [
      "learning rate: 7e-08 regularization strength 10000.0 val accuracy: 0.252\n",
      "learning rate: 7e-08 regularization strength 15000.0 val accuracy: 0.308\n",
      "learning rate: 7e-08 regularization strength 17500.0 val accuracy: 0.312\n",
      "learning rate: 7e-08 regularization strength 20000.0 val accuracy: 0.333\n",
      "learning rate: 7e-08 regularization strength 22500.0 val accuracy: 0.333\n",
      "learning rate: 7e-08 regularization strength 25000.0 val accuracy: 0.322\n",
      "learning rate: 8e-08 regularization strength 10000.0 val accuracy: 0.278\n",
      "learning rate: 8e-08 regularization strength 15000.0 val accuracy: 0.312\n",
      "learning rate: 8e-08 regularization strength 17500.0 val accuracy: 0.32\n",
      "learning rate: 8e-08 regularization strength 20000.0 val accuracy: 0.333\n",
      "learning rate: 8e-08 regularization strength 22500.0 val accuracy: 0.338\n",
      "learning rate: 8e-08 regularization strength 25000.0 val accuracy: 0.334\n",
      "learning rate: 9e-08 regularization strength 10000.0 val accuracy: 0.323\n",
      "learning rate: 9e-08 regularization strength 15000.0 val accuracy: 0.325\n",
      "learning rate: 9e-08 regularization strength 17500.0 val accuracy: 0.346\n",
      "learning rate: 9e-08 regularization strength 20000.0 val accuracy: 0.349\n",
      "learning rate: 9e-08 regularization strength 22500.0 val accuracy: 0.345\n",
      "learning rate: 9e-08 regularization strength 25000.0 val accuracy: 0.338\n",
      "learning rate: 9.5e-08 regularization strength 10000.0 val accuracy: 0.317\n",
      "learning rate: 9.5e-08 regularization strength 15000.0 val accuracy: 0.351\n",
      "learning rate: 9.5e-08 regularization strength 17500.0 val accuracy: 0.354\n",
      "learning rate: 9.5e-08 regularization strength 20000.0 val accuracy: 0.329\n",
      "learning rate: 9.5e-08 regularization strength 22500.0 val accuracy: 0.338\n",
      "learning rate: 9.5e-08 regularization strength 25000.0 val accuracy: 0.341\n",
      "learning rate: 1e-07 regularization strength 10000.0 val accuracy: 0.313\n",
      "learning rate: 1e-07 regularization strength 15000.0 val accuracy: 0.329\n",
      "learning rate: 1e-07 regularization strength 17500.0 val accuracy: 0.354\n",
      "learning rate: 1e-07 regularization strength 20000.0 val accuracy: 0.351\n",
      "learning rate: 1e-07 regularization strength 22500.0 val accuracy: 0.353\n",
      "learning rate: 1e-07 regularization strength 25000.0 val accuracy: 0.345\n",
      "lr 7.000000e-08 reg 1.000000e+04 train accuracy: 0.253061 val accuracy: 0.252000\n",
      "lr 7.000000e-08 reg 1.500000e+04 train accuracy: 0.291204 val accuracy: 0.308000\n",
      "lr 7.000000e-08 reg 1.750000e+04 train accuracy: 0.303265 val accuracy: 0.312000\n",
      "lr 7.000000e-08 reg 2.000000e+04 train accuracy: 0.311306 val accuracy: 0.333000\n",
      "lr 7.000000e-08 reg 2.250000e+04 train accuracy: 0.320041 val accuracy: 0.333000\n",
      "lr 7.000000e-08 reg 2.500000e+04 train accuracy: 0.317816 val accuracy: 0.322000\n",
      "lr 8.000000e-08 reg 1.000000e+04 train accuracy: 0.282592 val accuracy: 0.278000\n",
      "lr 8.000000e-08 reg 1.500000e+04 train accuracy: 0.305388 val accuracy: 0.312000\n",
      "lr 8.000000e-08 reg 1.750000e+04 train accuracy: 0.320020 val accuracy: 0.320000\n",
      "lr 8.000000e-08 reg 2.000000e+04 train accuracy: 0.318082 val accuracy: 0.333000\n",
      "lr 8.000000e-08 reg 2.250000e+04 train accuracy: 0.319755 val accuracy: 0.338000\n",
      "lr 8.000000e-08 reg 2.500000e+04 train accuracy: 0.319286 val accuracy: 0.334000\n",
      "lr 9.000000e-08 reg 1.000000e+04 train accuracy: 0.297714 val accuracy: 0.323000\n",
      "lr 9.000000e-08 reg 1.500000e+04 train accuracy: 0.319347 val accuracy: 0.325000\n",
      "lr 9.000000e-08 reg 1.750000e+04 train accuracy: 0.326020 val accuracy: 0.346000\n",
      "lr 9.000000e-08 reg 2.000000e+04 train accuracy: 0.322980 val accuracy: 0.349000\n",
      "lr 9.000000e-08 reg 2.250000e+04 train accuracy: 0.329673 val accuracy: 0.345000\n",
      "lr 9.000000e-08 reg 2.500000e+04 train accuracy: 0.326510 val accuracy: 0.338000\n",
      "lr 9.500000e-08 reg 1.000000e+04 train accuracy: 0.302796 val accuracy: 0.317000\n",
      "lr 9.500000e-08 reg 1.500000e+04 train accuracy: 0.315612 val accuracy: 0.351000\n",
      "lr 9.500000e-08 reg 1.750000e+04 train accuracy: 0.326714 val accuracy: 0.354000\n",
      "lr 9.500000e-08 reg 2.000000e+04 train accuracy: 0.328755 val accuracy: 0.329000\n",
      "lr 9.500000e-08 reg 2.250000e+04 train accuracy: 0.327306 val accuracy: 0.338000\n",
      "lr 9.500000e-08 reg 2.500000e+04 train accuracy: 0.325918 val accuracy: 0.341000\n",
      "lr 1.000000e-07 reg 1.000000e+04 train accuracy: 0.307735 val accuracy: 0.313000\n",
      "lr 1.000000e-07 reg 1.500000e+04 train accuracy: 0.330327 val accuracy: 0.329000\n",
      "lr 1.000000e-07 reg 1.750000e+04 train accuracy: 0.328020 val accuracy: 0.354000\n",
      "lr 1.000000e-07 reg 2.000000e+04 train accuracy: 0.334816 val accuracy: 0.351000\n",
      "lr 1.000000e-07 reg 2.250000e+04 train accuracy: 0.329592 val accuracy: 0.353000\n",
      "lr 1.000000e-07 reg 2.500000e+04 train accuracy: 0.326816 val accuracy: 0.345000\n",
      "best validation accuracy achieved during cross-validation: 0.354000\n"
     ]
    }
   ],
   "source": [
    "# Use the validation set to tune hyperparameters (regularization strength and\n",
    "# learning rate). You should experiment with different ranges for the learning\n",
    "# rates and regularization strengths; if you are careful you should be able to\n",
    "# get a classification accuracy of over 0.35 on the validation set.\n",
    "from cs231n.classifiers import Softmax\n",
    "results = {}\n",
    "best_val = -1\n",
    "best_softmax = None\n",
    "learning_rates = [7e-8,8e-8,9e-8,9.5e-8, 1e-7]#[1e-7, 5e-7]\n",
    "regularization_strengths = [1e4,1.5e4,1.75e4,2e4,2.25e4,2.5e4]#[2.5e4, 5e4]\n",
    "\n",
    "################################################################################\n",
    "# TODO:                                                                        #\n",
    "# Use the validation set to set the learning rate and regularization strength. #\n",
    "# This should be identical to the validation that you did for the SVM; save    #\n",
    "# the best trained softmax classifer in best_softmax.                          #\n",
    "################################################################################\n",
    "best_softmax=None\n",
    "for rat in learning_rates:\n",
    "    for re in regularization_strengths:\n",
    "        smx=Softmax()\n",
    "        smx.train(X_train,y_train,learning_rate=rat,reg=re,num_iters=800,verbose=False)\n",
    "        y_train_pred=smx.predict(X_train)\n",
    "        y_val_pred=smx.predict(X_val)\n",
    "        training_accuracy=np.mean(y_train==y_train_pred)\n",
    "        validation_accuracy=np.mean(y_val==y_val_pred)\n",
    "        results[(rat,re)]=(training_accuracy,validation_accuracy)\n",
    "        if(best_val<validation_accuracy):\n",
    "            best_val=validation_accuracy\n",
    "            best_softmax=smx\n",
    "        print('learning rate:',rat,'regularization strength',re,'val accuracy:',validation_accuracy)\n",
    "################################################################################\n",
    "#                              END OF YOUR CODE                                #\n",
    "################################################################################\n",
    "    \n",
    "# Print out results.\n",
    "for lr, reg in sorted(results):\n",
    "    train_accuracy, val_accuracy = results[(lr, reg)]\n",
    "    print('lr %e reg %e train accuracy: %f val accuracy: %f' % (\n",
    "                lr, reg, train_accuracy, val_accuracy))\n",
    "    \n",
    "print('best validation accuracy achieved during cross-validation: %f' % best_val)"
   ]
  },
  {
   "cell_type": "code",
   "execution_count": 87,
   "metadata": {},
   "outputs": [
    {
     "name": "stdout",
     "output_type": "stream",
     "text": [
      "softmax on raw pixels final test set accuracy: 0.349000\n"
     ]
    }
   ],
   "source": [
    "# evaluate on test set\n",
    "# Evaluate the best softmax on test set\n",
    "y_test_pred = best_softmax.predict(X_test)\n",
    "test_accuracy = np.mean(y_test == y_test_pred)\n",
    "print('softmax on raw pixels final test set accuracy: %f' % (test_accuracy, ))"
   ]
  },
  {
   "cell_type": "markdown",
   "metadata": {},
   "source": [
    "**Inline Question** - *True or False*\n",
    "\n",
    "It's possible to add a new datapoint to a training set that would leave the SVM loss unchanged, but this is not the case with the Softmax classifier loss.\n",
    "\n",
    "*Your answer*:\n",
    "\n",
    "*Your explanation*:"
   ]
  },
  {
   "cell_type": "code",
   "execution_count": 88,
   "metadata": {},
   "outputs": [
    {
     "data": {
      "image/png": "[encoded data removed]",
      "text/plain": [
       "<Figure size 432x288 with 10 Axes>"
      ]
     },
     "metadata": {
      "needs_background": "light"
     },
     "output_type": "display_data"
    }
   ],
   "source": [
    "# Visualize the learned weights for each class\n",
    "w = best_softmax.W[:-1,:] # strip out the bias\n",
    "w = w.reshape(32, 32, 3, 10)\n",
    "\n",
    "w_min, w_max = np.min(w), np.max(w)\n",
    "\n",
    "classes = ['plane', 'car', 'bird', 'cat', 'deer', 'dog', 'frog', 'horse', 'ship', 'truck']\n",
    "for i in range(10):\n",
    "    plt.subplot(2, 5, i + 1)\n",
    "    \n",
    "    # Rescale the weights to be between 0 and 255\n",
    "    wimg = 255.0 * (w[:, :, :, i].squeeze() - w_min) / (w_max - w_min)\n",
    "    plt.imshow(wimg.astype('uint8'))\n",
    "    plt.axis('off')\n",
    "    plt.title(classes[i])"
   ]
  },
  {
   "cell_type": "code",
   "execution_count": null,
   "metadata": {},
   "outputs": [],
   "source": []
  }
 ],
 "metadata": {
  "kernelspec": {
   "display_name": "Python 3",
   "language": "python",
   "name": "python3"
  },
  "language_info": {
   "codemirror_mode": {
    "name": "ipython",
    "version": 3
   },
   "file_extension": ".py",
   "mimetype": "text/x-python",
   "name": "python",
   "nbconvert_exporter": "python",
   "pygments_lexer": "ipython3",
   "version": "3.7.1"
  }
 },
 "nbformat": 4,
 "nbformat_minor": 1
}
